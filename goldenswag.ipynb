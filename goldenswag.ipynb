{
 "cells": [
  {
   "cell_type": "code",
   "id": "initial_id",
   "metadata": {
    "collapsed": true,
    "ExecuteTime": {
     "end_time": "2025-03-29T09:57:38.257319Z",
     "start_time": "2025-03-29T09:57:38.176067Z"
    }
   },
   "source": [
    "import pandas as pd\n",
    "import numpy as np\n",
    "from sklearn.preprocessing import MultiLabelBinarizer\n",
    "\n",
    "annot1 = pd.read_parquet('annotations_round_1.parquet')\n",
    "\n",
    "quality_labels = annot1.quality_label.str.strip('[]').str.split('; ')\n",
    "mlb = MultiLabelBinarizer()\n",
    "df_transformed = pd.DataFrame(mlb.fit_transform(quality_labels), \n",
    "                              columns=mlb.classes_, \n",
    "                              index=annot1.index)\n",
    "annot1 = annot1.join(df_transformed)\n",
    "\n",
    "annot2 = pd.read_parquet('annotations_round_2.parquet')"
   ],
   "outputs": [],
   "execution_count": 8
  },
  {
   "metadata": {
    "ExecuteTime": {
     "end_time": "2025-03-29T09:57:38.709051Z",
     "start_time": "2025-03-29T09:57:38.706741Z"
    }
   },
   "cell_type": "code",
   "source": [
    "indices = set(annot1.original_index)\n",
    "assert len(indices) == 10042\n",
    "assert indices == set(range(10042))"
   ],
   "id": "7f248298fc1495fa",
   "outputs": [],
   "execution_count": 9
  },
  {
   "metadata": {},
   "cell_type": "markdown",
   "source": "Toxicity",
   "id": "2449ed65841bdb7f"
  },
  {
   "metadata": {
    "ExecuteTime": {
     "end_time": "2025-03-29T09:57:39.590105Z",
     "start_time": "2025-03-29T09:57:39.587308Z"
    }
   },
   "cell_type": "code",
   "source": [
    "toxicity_rows = set(range(10042)) - set(annot2.original_index)\n",
    "toxicity_rows"
   ],
   "id": "2b49f9d2e042c78e",
   "outputs": [
    {
     "data": {
      "text/plain": [
       "{3648, 3760, 4307, 7001, 7423, 8135}"
      ]
     },
     "execution_count": 10,
     "metadata": {},
     "output_type": "execute_result"
    }
   ],
   "execution_count": 10
  },
  {
   "metadata": {
    "ExecuteTime": {
     "end_time": "2025-03-29T09:57:40.132108Z",
     "start_time": "2025-03-29T09:57:40.129871Z"
    }
   },
   "cell_type": "code",
   "source": [
    "new_indices = indices - toxicity_rows\n",
    "print('removed:', len(indices) - len(new_indices), 'left:', len(new_indices))\n",
    "indices = new_indices"
   ],
   "id": "7c516199ab2c04e4",
   "outputs": [
    {
     "name": "stdout",
     "output_type": "stream",
     "text": [
      "removed: 6 left: 10036\n"
     ]
    }
   ],
   "execution_count": 11
  },
  {
   "metadata": {},
   "cell_type": "markdown",
   "source": "Annot1: nonsense or ungrammatical prompts",
   "id": "dc850b563ea7f646"
  },
  {
   "metadata": {
    "ExecuteTime": {
     "end_time": "2025-03-29T09:57:41.040875Z",
     "start_time": "2025-03-29T09:57:41.036823Z"
    }
   },
   "cell_type": "code",
   "source": [
    "bad_prompt = set(annot1[(annot1['nonsense, prompt'] + annot1['ungrammatical, prompt']) > 0].original_index)\n",
    "len(bad_prompt)"
   ],
   "id": "87e4d8cd1b9e2241",
   "outputs": [
    {
     "data": {
      "text/plain": [
       "4065"
      ]
     },
     "execution_count": 12,
     "metadata": {},
     "output_type": "execute_result"
    }
   ],
   "execution_count": 12
  },
  {
   "metadata": {
    "ExecuteTime": {
     "end_time": "2025-03-29T09:57:42.495550Z",
     "start_time": "2025-03-29T09:57:42.493525Z"
    }
   },
   "cell_type": "code",
   "source": [
    "new_indices = indices - bad_prompt\n",
    "print('removed:', len(indices) - len(new_indices), 'left:', len(new_indices))\n",
    "indices = new_indices"
   ],
   "id": "772263f8611a139b",
   "outputs": [
    {
     "name": "stdout",
     "output_type": "stream",
     "text": [
      "removed: 4064 left: 5972\n"
     ]
    }
   ],
   "execution_count": 13
  },
  {
   "metadata": {},
   "cell_type": "markdown",
   "source": "Annot1: nonsense or ungrammatical correct answer",
   "id": "346993d585ea0008"
  },
  {
   "metadata": {
    "ExecuteTime": {
     "end_time": "2025-03-29T09:57:43.653462Z",
     "start_time": "2025-03-29T09:57:43.650224Z"
    }
   },
   "cell_type": "code",
   "source": [
    "bad_correct = set(annot1[(annot1['nonsense, correct answer'] + annot1['ungrammatical, correct answer']) > 0].original_index)\n",
    "len(bad_correct)"
   ],
   "id": "cb8f13af2bd873ab",
   "outputs": [
    {
     "data": {
      "text/plain": [
       "711"
      ]
     },
     "execution_count": 14,
     "metadata": {},
     "output_type": "execute_result"
    }
   ],
   "execution_count": 14
  },
  {
   "metadata": {
    "ExecuteTime": {
     "end_time": "2025-03-29T09:57:46.737197Z",
     "start_time": "2025-03-29T09:57:46.735100Z"
    }
   },
   "cell_type": "code",
   "source": [
    "new_indices = indices - bad_correct\n",
    "print('removed:', len(indices) - len(new_indices), 'left:', len(new_indices))\n",
    "indices = new_indices"
   ],
   "id": "eafe8e088f3e7b0b",
   "outputs": [
    {
     "name": "stdout",
     "output_type": "stream",
     "text": [
      "removed: 191 left: 5781\n"
     ]
    }
   ],
   "execution_count": 15
  },
  {
   "metadata": {},
   "cell_type": "markdown",
   "source": "Annot1: ungrammatical incorrect answers",
   "id": "5752cc07495c0e0b"
  },
  {
   "metadata": {
    "ExecuteTime": {
     "end_time": "2025-03-29T09:57:54.644227Z",
     "start_time": "2025-03-29T09:57:54.640781Z"
    }
   },
   "cell_type": "code",
   "source": [
    "bad_incorrect = set(annot1[(annot1['ungrammatical, incorrect answer(s)']) > 0].original_index)\n",
    "len(bad_incorrect)"
   ],
   "id": "61df2c090797c4ba",
   "outputs": [
    {
     "data": {
      "text/plain": [
       "3959"
      ]
     },
     "execution_count": 16,
     "metadata": {},
     "output_type": "execute_result"
    }
   ],
   "execution_count": 16
  },
  {
   "metadata": {
    "ExecuteTime": {
     "end_time": "2025-03-29T09:58:01.722780Z",
     "start_time": "2025-03-29T09:58:01.719121Z"
    }
   },
   "cell_type": "code",
   "source": [
    "new_indices = indices - bad_incorrect\n",
    "print('removed:', len(indices) - len(new_indices), 'left:', len(new_indices))\n",
    "indices = new_indices"
   ],
   "id": "3e2ce82733be29dc",
   "outputs": [
    {
     "name": "stdout",
     "output_type": "stream",
     "text": [
      "removed: 1975 left: 3806\n"
     ]
    }
   ],
   "execution_count": 17
  },
  {
   "metadata": {},
   "cell_type": "markdown",
   "source": "Annot2: wrong answer",
   "id": "289bb1c7162a1760"
  },
  {
   "metadata": {
    "ExecuteTime": {
     "end_time": "2025-03-29T09:58:07.207951Z",
     "start_time": "2025-03-29T09:58:07.198032Z"
    }
   },
   "cell_type": "code",
   "source": [
    "wrong_answer = set(annot2[annot2['best_option'].apply(lambda x: 'ABCD'.index(x)) != annot2['Correct Answer'].astype(int)].original_index)\n",
    "len(wrong_answer)"
   ],
   "id": "dec55004a0b9009b",
   "outputs": [
    {
     "data": {
      "text/plain": [
       "370"
      ]
     },
     "execution_count": 18,
     "metadata": {},
     "output_type": "execute_result"
    }
   ],
   "execution_count": 18
  },
  {
   "metadata": {
    "ExecuteTime": {
     "end_time": "2025-03-29T09:58:08.415723Z",
     "start_time": "2025-03-29T09:58:08.413616Z"
    }
   },
   "cell_type": "code",
   "source": [
    "new_indices = indices - wrong_answer\n",
    "print('removed:', len(indices) - len(new_indices), 'left:', len(new_indices))\n",
    "indices = new_indices"
   ],
   "id": "7e9b398ac2e08f66",
   "outputs": [
    {
     "name": "stdout",
     "output_type": "stream",
     "text": [
      "removed: 89 left: 3717\n"
     ]
    }
   ],
   "execution_count": 19
  },
  {
   "metadata": {},
   "cell_type": "markdown",
   "source": "Annot2: all nonsense",
   "id": "1bd466ecf833173c"
  },
  {
   "metadata": {
    "ExecuteTime": {
     "end_time": "2025-03-29T09:58:11.420358Z",
     "start_time": "2025-03-29T09:58:11.414644Z"
    }
   },
   "cell_type": "code",
   "source": [
    "all_nonsense = set(annot2[annot2.all_implausible == 'Yes'].original_index)\n",
    "len(all_nonsense)"
   ],
   "id": "f8cbd7fc80931945",
   "outputs": [
    {
     "data": {
      "text/plain": [
       "409"
      ]
     },
     "execution_count": 20,
     "metadata": {},
     "output_type": "execute_result"
    }
   ],
   "execution_count": 20
  },
  {
   "metadata": {
    "ExecuteTime": {
     "end_time": "2025-03-29T09:58:12.043823Z",
     "start_time": "2025-03-29T09:58:12.041765Z"
    }
   },
   "cell_type": "code",
   "source": [
    "new_indices = indices - all_nonsense\n",
    "print('removed:', len(indices) - len(new_indices), 'left:', len(new_indices))\n",
    "indices = new_indices"
   ],
   "id": "83e44a9fc15e5d9c",
   "outputs": [
    {
     "name": "stdout",
     "output_type": "stream",
     "text": [
      "removed: 23 left: 3694\n"
     ]
    }
   ],
   "execution_count": 21
  },
  {
   "metadata": {},
   "cell_type": "markdown",
   "source": "Annot2: multiple correct",
   "id": "20dcee70c5139c6b"
  },
  {
   "metadata": {
    "ExecuteTime": {
     "end_time": "2025-03-29T09:58:15.271264Z",
     "start_time": "2025-03-29T09:58:15.264509Z"
    }
   },
   "cell_type": "code",
   "source": [
    "multiple_correct = set(annot2[annot2.equally_good_options != 'None'].original_index)\n",
    "len(multiple_correct)"
   ],
   "id": "b095091e042ccb94",
   "outputs": [
    {
     "data": {
      "text/plain": [
       "2121"
      ]
     },
     "execution_count": 22,
     "metadata": {},
     "output_type": "execute_result"
    }
   ],
   "execution_count": 22
  },
  {
   "metadata": {
    "ExecuteTime": {
     "end_time": "2025-03-29T09:58:15.730663Z",
     "start_time": "2025-03-29T09:58:15.728473Z"
    }
   },
   "cell_type": "code",
   "source": [
    "new_indices = indices - multiple_correct\n",
    "print('removed:', len(indices) - len(new_indices), 'left:', len(new_indices))\n",
    "indices = new_indices"
   ],
   "id": "756ac3046c7be38d",
   "outputs": [
    {
     "name": "stdout",
     "output_type": "stream",
     "text": [
      "removed: 583 left: 3111\n"
     ]
    }
   ],
   "execution_count": 23
  },
  {
   "metadata": {},
   "cell_type": "markdown",
   "source": "Annot2: correct is worst",
   "id": "1854a8890d9c7404"
  },
  {
   "metadata": {
    "ExecuteTime": {
     "end_time": "2025-03-29T09:58:19.261315Z",
     "start_time": "2025-03-29T09:58:19.254002Z"
    }
   },
   "cell_type": "code",
   "source": [
    "correct_is_worst = set(annot2[annot2['worst_option'].apply(lambda x: 'ABCD'.index(x)) == annot2['Correct Answer'].astype(int)].original_index)\n",
    "len(correct_is_worst)"
   ],
   "id": "ee0e28389de5e941",
   "outputs": [
    {
     "data": {
      "text/plain": [
       "13"
      ]
     },
     "execution_count": 24,
     "metadata": {},
     "output_type": "execute_result"
    }
   ],
   "execution_count": 24
  },
  {
   "metadata": {
    "ExecuteTime": {
     "end_time": "2025-03-29T09:58:19.857921Z",
     "start_time": "2025-03-29T09:58:19.855970Z"
    }
   },
   "cell_type": "code",
   "source": [
    "new_indices = indices - correct_is_worst\n",
    "print('removed:', len(indices) - len(new_indices), 'left:', len(new_indices))\n",
    "indices = new_indices"
   ],
   "id": "a19fc2334fa4063f",
   "outputs": [
    {
     "name": "stdout",
     "output_type": "stream",
     "text": [
      "removed: 0 left: 3111\n"
     ]
    }
   ],
   "execution_count": 25
  },
  {
   "metadata": {},
   "cell_type": "markdown",
   "source": "token lengths: relative length > 0.3",
   "id": "b6f241177a361305"
  },
  {
   "metadata": {
    "ExecuteTime": {
     "end_time": "2025-03-29T09:59:10.798881Z",
     "start_time": "2025-03-29T09:59:05.744352Z"
    }
   },
   "cell_type": "code",
   "source": [
    "from transformers import AutoTokenizer\n",
    "\n",
    "model_name = 'meta-llama/Llama-3.2-1B'\n",
    "\n",
    "tokenizer = AutoTokenizer.from_pretrained(model_name)\n",
    "\n",
    "scores = pd.read_csv(f\"data/log_likelihood/full_prompt/{model_name.replace('/', '--')}.csv\")\n",
    "annot1_len = annot1.join(scores)\n",
    "\n",
    "for i in range(4):\n",
    "    annot1_len[f'option_{i}'] = annot1_len.Options.str.split('\\n').apply(lambda x: x[i][3:].replace(' (Labeled as correct)', ''))\n",
    "\n",
    "lengths = pd.concat([\n",
    "    annot1_len[['Question', f'option_{i}', f'nll_{i}']].rename(columns={\n",
    "        f'option_{i}': 'option',\n",
    "        f'nll_{i}': 'Mean Log-Likelihood',\n",
    "    }) for i in range(4)\n",
    "])\n",
    "\n",
    "lengths['Text Length'] = lengths.apply(lambda row: len(tokenizer.encode(row['Question'] + row['option'])), axis=1)\n",
    "\n",
    "result = lengths.groupby(lengths.index)['Text Length'].agg(lambda x: x.max() - x.min())\n",
    "result = result.rename('Length Difference')\n",
    "result /= lengths.groupby(lengths.index)['Text Length'].max()"
   ],
   "id": "6fdaf48406966a09",
   "outputs": [],
   "execution_count": 27
  },
  {
   "metadata": {
    "ExecuteTime": {
     "end_time": "2025-03-29T09:59:11.473582Z",
     "start_time": "2025-03-29T09:59:11.469875Z"
    }
   },
   "cell_type": "code",
   "source": [
    "diff_lengths = set(annot1[(result > 0.3)].original_index)\n",
    "len(diff_lengths)"
   ],
   "id": "a8799ac5e58cf9aa",
   "outputs": [
    {
     "data": {
      "text/plain": [
       "802"
      ]
     },
     "execution_count": 28,
     "metadata": {},
     "output_type": "execute_result"
    }
   ],
   "execution_count": 28
  },
  {
   "metadata": {
    "ExecuteTime": {
     "end_time": "2025-03-29T09:59:13.755776Z",
     "start_time": "2025-03-29T09:59:13.753640Z"
    }
   },
   "cell_type": "code",
   "source": [
    "new_indices = indices - diff_lengths\n",
    "print('removed:', len(indices) - len(new_indices), 'left:', len(new_indices))\n",
    "indices = new_indices"
   ],
   "id": "afad1e2738be016e",
   "outputs": [
    {
     "name": "stdout",
     "output_type": "stream",
     "text": [
      "removed: 96 left: 3015\n"
     ]
    }
   ],
   "execution_count": 29
  },
  {
   "metadata": {},
   "cell_type": "markdown",
   "source": "token lengths: diff > 0.15 and longest is correct",
   "id": "e1a25989812bd59e"
  },
  {
   "metadata": {
    "ExecuteTime": {
     "end_time": "2025-03-29T09:59:24.221499Z",
     "start_time": "2025-03-29T09:59:22.746857Z"
    }
   },
   "cell_type": "code",
   "source": "annot1_len['longest'] = annot1_len[[f'option_{i}' for i in range(4)]].apply(lambda row: np.argmax([len(tokenizer.encode(o)) for o in row]), axis=1)",
   "id": "febb66c5ca5dc4d5",
   "outputs": [],
   "execution_count": 30
  },
  {
   "metadata": {
    "ExecuteTime": {
     "end_time": "2025-03-29T09:59:25.580199Z",
     "start_time": "2025-03-29T09:59:25.576047Z"
    }
   },
   "cell_type": "code",
   "source": [
    "longest_is_correct = set(annot1[(result > 0.15) & (result <= 0.3) & (annot1_len.longest == annot1_len['Correct Answer'].astype(int))].original_index)\n",
    "len(longest_is_correct)"
   ],
   "id": "234513d3221aaf1d",
   "outputs": [
    {
     "data": {
      "text/plain": [
       "1270"
      ]
     },
     "execution_count": 31,
     "metadata": {},
     "output_type": "execute_result"
    }
   ],
   "execution_count": 31
  },
  {
   "metadata": {
    "ExecuteTime": {
     "end_time": "2025-03-29T09:59:29.746456Z",
     "start_time": "2025-03-29T09:59:29.744263Z"
    }
   },
   "cell_type": "code",
   "source": [
    "new_indices = indices - longest_is_correct\n",
    "print('removed:', len(indices) - len(new_indices), 'left:', len(new_indices))\n",
    "indices = new_indices"
   ],
   "id": "626a4b4c4b1de03a",
   "outputs": [
    {
     "name": "stdout",
     "output_type": "stream",
     "text": [
      "removed: 414 left: 2601\n"
     ]
    }
   ],
   "execution_count": 32
  },
  {
   "metadata": {},
   "cell_type": "markdown",
   "source": "zero-prompt core",
   "id": "b105f8395f2c865e"
  },
  {
   "metadata": {
    "ExecuteTime": {
     "end_time": "2025-03-29T10:00:13.247346Z",
     "start_time": "2025-03-29T10:00:13.242470Z"
    }
   },
   "cell_type": "code",
   "source": [
    "def get_complete_dataframe(model_name):\n",
    "    df = pd.read_parquet('annotations_round_1.parquet')\n",
    "    scores = pd.read_csv('data/log_likelihood/full_prompt/' + model_name)\n",
    "    predictions = scores.to_numpy().argmax(axis=1)\n",
    "    scores_answer = pd.read_csv('data/log_likelihood/zero_prompt/' + model_name)\n",
    "    predictions_answer = scores_answer.to_numpy().argmax(axis=1)\n",
    "    return pd.DataFrame({\n",
    "        'Full Prompt': predictions,\n",
    "        'Zero Prompt': predictions_answer,\n",
    "        'Correct Answer': df['Correct Answer'].astype(int),\n",
    "    })\n",
    "\n",
    "\n",
    "def same_correct_map(model_name):\n",
    "    df = get_complete_dataframe(model_name)\n",
    "    same_correct = (df['Zero Prompt'] == df['Correct Answer'])\n",
    "    return same_correct.astype(int)"
   ],
   "id": "c0bc7c7d1cf8d754",
   "outputs": [],
   "execution_count": 33
  },
  {
   "metadata": {
    "ExecuteTime": {
     "end_time": "2025-03-29T10:00:14.711812Z",
     "start_time": "2025-03-29T10:00:14.494279Z"
    }
   },
   "cell_type": "code",
   "source": [
    "models = ['qwen-2.5-32b-instruct.csv', 'OLMo-2-0325-32B-Instruct.csv', 'meta-llama--Llama-3.2-1B.csv', 'google--gemma-3-1b-pt.csv', 'Qwen--Qwen2.5-1.5B.csv', 'HuggingFaceTB--SmolLM2-1.7B.csv', 'ibm-granite--granite-3.1-1b-a400m-base.csv', 'EleutherAI--pythia-1b.csv', 'PleIAs--Pleias-1b-Preview.csv', 'deepseek-ai--DeepSeek-R1-Distill-Qwen-1.5B.csv']\n",
    "\n",
    "same_correct = same_correct_map(models[0])\n",
    "for model in models[1:]:\n",
    "    same_correct += same_correct_map(model)\n",
    "\n",
    "same_correct.value_counts()"
   ],
   "id": "24a2383b454a8dcd",
   "outputs": [
    {
     "data": {
      "text/plain": [
       "0     2501\n",
       "10    1805\n",
       "9      913\n",
       "1      838\n",
       "2      690\n",
       "8      656\n",
       "7      589\n",
       "6      547\n",
       "3      510\n",
       "4      501\n",
       "5      492\n",
       "Name: count, dtype: int64"
      ]
     },
     "execution_count": 34,
     "metadata": {},
     "output_type": "execute_result"
    }
   ],
   "execution_count": 34
  },
  {
   "metadata": {
    "ExecuteTime": {
     "end_time": "2025-03-29T10:00:19.312078Z",
     "start_time": "2025-03-29T10:00:19.308058Z"
    }
   },
   "cell_type": "code",
   "source": [
    "cumul = 0\n",
    "result = []\n",
    "for i in range(10):\n",
    "    cumul += same_correct.value_counts()[10-i]\n",
    "    result.append(cumul)\n",
    "\n",
    "for r in reversed(result):\n",
    "    print(f'{r / 10042 * 100:.0f}', end='\\% & ')"
   ],
   "id": "1e4e637e2eeee49d",
   "outputs": [
    {
     "name": "stdout",
     "output_type": "stream",
     "text": [
      "75\\% & 67\\% & 60\\% & 55\\% & 50\\% & 45\\% & 39\\% & 34\\% & 27\\% & 18\\% & "
     ]
    }
   ],
   "execution_count": 35
  },
  {
   "metadata": {
    "ExecuteTime": {
     "end_time": "2025-03-29T10:00:25.735057Z",
     "start_time": "2025-03-29T10:00:25.730773Z"
    }
   },
   "cell_type": "code",
   "source": [
    "same_correct_id = set(annot1[(same_correct > 6)].original_index)\n",
    "len(same_correct_id)"
   ],
   "id": "90a1204876c993b3",
   "outputs": [
    {
     "data": {
      "text/plain": [
       "3963"
      ]
     },
     "execution_count": 36,
     "metadata": {},
     "output_type": "execute_result"
    }
   ],
   "execution_count": 36
  },
  {
   "metadata": {
    "ExecuteTime": {
     "end_time": "2025-03-29T10:00:26.949153Z",
     "start_time": "2025-03-29T10:00:26.946414Z"
    }
   },
   "cell_type": "code",
   "source": [
    "new_indices = indices - same_correct_id\n",
    "print('removed:', len(indices) - len(new_indices), 'left:', len(new_indices))\n",
    "indices = new_indices"
   ],
   "id": "677ee0ba2698b04d",
   "outputs": [
    {
     "name": "stdout",
     "output_type": "stream",
     "text": [
      "removed: 1076 left: 1525\n"
     ]
    }
   ],
   "execution_count": 37
  },
  {
   "metadata": {
    "ExecuteTime": {
     "end_time": "2025-03-29T10:00:30.646874Z",
     "start_time": "2025-03-29T10:00:30.643274Z"
    }
   },
   "cell_type": "code",
   "source": "len(indices) / 10042",
   "id": "1dc78fb32ce74bb9",
   "outputs": [
    {
     "data": {
      "text/plain": [
       "0.1518621788488349"
      ]
     },
     "execution_count": 38,
     "metadata": {},
     "output_type": "execute_result"
    }
   ],
   "execution_count": 38
  },
  {
   "metadata": {
    "ExecuteTime": {
     "end_time": "2025-03-29T10:00:57.531119Z",
     "start_time": "2025-03-29T10:00:57.527654Z"
    }
   },
   "cell_type": "code",
   "source": [
    "model_map = {\n",
    "    'EleutherAI--pythia-1b.csv': 'Pythia 1B',\n",
    "    'HuggingFaceTB--SmolLM2-1.7B.csv': 'SmolLM2 1.7B',\n",
    "    'PleIAs--Pleias-1b-Preview.csv': 'PleIAs 1.0 1B',\n",
    "    'Qwen--Qwen2.5-1.5B.csv': 'Qwen 2.5 1.5B',\n",
    "    'deepseek-ai--DeepSeek-R1-Distill-Qwen-1.5B.csv': 'DeepSeek-R1 1.5B',\n",
    "    'google--gemma-3-1b-pt.csv': 'Gemma 3 1B',\n",
    "    'ibm-granite--granite-3.1-1b-a400m-base.csv': 'Granite 3.1 1B',\n",
    "    'meta-llama--Llama-3.2-1B.csv': 'Llama 3.2 1B',\n",
    "    'qwen-2.5-32b-instruct.csv': 'Qwen 2.5 32B',\n",
    "    'OLMo-2-0325-32B-Instruct.csv': 'OLMo 2 32B'\n",
    "}\n",
    "\n",
    "import matplotlib.pyplot as plt\n",
    "import seaborn as sns\n",
    "\n",
    "plt.rcParams['font.family'] = 'Palatino'\n",
    "sns.set_context(\"paper\", font_scale=2.1)"
   ],
   "id": "a066588af6d5cccf",
   "outputs": [],
   "execution_count": 39
  },
  {
   "metadata": {
    "ExecuteTime": {
     "end_time": "2025-03-29T10:01:01.906236Z",
     "start_time": "2025-03-29T10:01:01.895067Z"
    }
   },
   "cell_type": "code",
   "source": "golden_swag = annot2.loc[annot2.original_index.apply(lambda x: x in indices)]",
   "id": "d9d17cbd78f0cdc9",
   "outputs": [],
   "execution_count": 40
  },
  {
   "metadata": {
    "ExecuteTime": {
     "end_time": "2025-03-29T10:02:11.941439Z",
     "start_time": "2025-03-29T10:02:11.935572Z"
    }
   },
   "cell_type": "code",
   "source": [
    "def compute_accuracy_(model_name, data):\n",
    "    scores = pd.read_csv('data/log_likelihood/full_prompt/' + model_name).iloc[data.original_index]\n",
    "    predictions = scores.to_numpy().argmax(axis=1)\n",
    "    scores_answer = pd.read_csv('data/log_likelihood/zero_prompt/' + model_name).iloc[data.original_index]\n",
    "    predictions_answer = scores_answer.to_numpy().argmax(axis=1)\n",
    "    gold_best = data['Correct Answer'].astype(int)\n",
    "    \n",
    "    accuracy = (predictions == gold_best).mean()\n",
    "    accuracy_answer = (predictions_answer == gold_best).mean()\n",
    "    return accuracy, accuracy_answer\n",
    "\n",
    "def compute_accuracy(model_name):\n",
    "    res1 = compute_accuracy_(model_name, annot2)\n",
    "    res2 = compute_accuracy_(model_name, golden_swag)\n",
    "    return res1[0], res2[0], res1[1], res2[1]"
   ],
   "id": "41a2a78443020546",
   "outputs": [],
   "execution_count": 45
  },
  {
   "metadata": {
    "ExecuteTime": {
     "end_time": "2025-03-29T10:02:12.633232Z",
     "start_time": "2025-03-29T10:02:12.485217Z"
    }
   },
   "cell_type": "code",
   "source": [
    "accuracy_types = [\"HellaSwag\", \"GoldenSwag\"]\n",
    "evaluation_types = [\"Full-Prompt\", \"Zero-Prompt\"]\n",
    "\n",
    "data = []\n",
    "\n",
    "for model in models:\n",
    "    accuracies = compute_accuracy(model)\n",
    "    for i, eval_type in enumerate(evaluation_types):\n",
    "        for j, acc_type in enumerate(accuracy_types):\n",
    "            data.append([model_map[model], eval_type, acc_type, accuracies[i * 2 + j]])\n",
    "\n",
    "df = pd.DataFrame(data, columns=[\"Model\", \"Evaluation Type\", \"Accuracy Type\", \"Value\"])"
   ],
   "id": "1678f48a24867d01",
   "outputs": [],
   "execution_count": 46
  },
  {
   "metadata": {
    "ExecuteTime": {
     "end_time": "2025-03-29T10:02:58.785417Z",
     "start_time": "2025-03-29T10:02:58.619349Z"
    }
   },
   "cell_type": "code",
   "source": [
    "import pandas as pd\n",
    "import numpy as np\n",
    "import matplotlib.pyplot as plt\n",
    "import matplotlib.patches as mpatches\n",
    "\n",
    "colors = [\"#2274A5\", '#FFBF00']\n",
    "\n",
    "hatches = ['', '//']\n",
    "\n",
    "plt.figure(figsize=(18, 6))\n",
    "\n",
    "bar_width = 0.13\n",
    "x = np.arange(len(models))\n",
    "\n",
    "for i, accuracy_type in enumerate(accuracy_types):\n",
    "    for j, eval_type in enumerate(evaluation_types):\n",
    "        values = df[(df['Accuracy Type'] == accuracy_type) & (df['Evaluation Type'] == eval_type)]\n",
    "        position_offset = (i * len(evaluation_types) + j) * bar_width\n",
    "        plt.bar(x + position_offset, values['Value'], width=bar_width,\n",
    "                color=colors[i], hatch=hatches[j], label=f'Acc {accuracy_type}, Eval {eval_type}' if i == 0 and j == 0 else \"\")\n",
    "\n",
    "plt.xlabel('Model')\n",
    "plt.ylabel('Accuracy')\n",
    "plt.xticks(x + (len(accuracy_types) * len(evaluation_types) * bar_width / 2) - (bar_width / 2), [model_map[m] for m in models], rotation=30, ha=\"right\")\n",
    "plt.axhline(0.25, linestyle='--', linewidth=2, color='gray', label='random')\n",
    "\n",
    "color_patches = [mpatches.Patch(color=colors[i], label=t) for i, t in enumerate(accuracy_types)]\n",
    "hatch_patches = [mpatches.Patch(facecolor='gray', hatch=hatches[i], label=t) for i, t in enumerate(evaluation_types)]\n",
    "baseline_line = plt.Line2D([0], [0], color='gray', linestyle='--', label='Random', linewidth=2) \n",
    "\n",
    "legend1 = plt.legend(handles=color_patches, title='Accuracy', bbox_to_anchor=(0.84, 0.97), loc='upper right', borderaxespad=0.)\n",
    "legend2 = plt.legend(handles=hatch_patches + [baseline_line], title='Evaluation', bbox_to_anchor=(0.99, 0.97), loc='upper right', borderaxespad=0.)\n",
    "\n",
    "plt.gca().add_artist(legend1)\n",
    "plt.gca().add_artist(legend2) \n",
    "\n",
    "plt.tight_layout()\n",
    "plt.show()"
   ],
   "id": "49e79d8433a028da",
   "outputs": [
    {
     "data": {
      "text/plain": [
       "<Figure size 1800x600 with 1 Axes>"
      ],
      "image/png": "[encoded data removed]"
     },
     "metadata": {},
     "output_type": "display_data"
    }
   ],
   "execution_count": 47
  },
  {
   "metadata": {},
   "cell_type": "code",
   "source": [
    "from datasets import load_dataset\n",
    "\n",
    "dataset = load_dataset(\"hellaswag\")['validation']"
   ],
   "id": "64b208fd98faefa",
   "outputs": [],
   "execution_count": null
  },
  {
   "metadata": {
    "ExecuteTime": {
     "end_time": "2025-03-29T10:04:56.424822Z",
     "start_time": "2025-03-29T10:04:56.419234Z"
    }
   },
   "cell_type": "code",
   "source": "golden_swag_hf = dataset.select(indices)",
   "id": "f390b67667c8e8bb",
   "outputs": [],
   "execution_count": 52
  },
  {
   "metadata": {
    "ExecuteTime": {
     "end_time": "2025-03-29T10:05:00.865784Z",
     "start_time": "2025-03-29T10:05:00.863740Z"
    }
   },
   "cell_type": "code",
   "source": "golden_swag_hf",
   "id": "dbd0624d2e9d4531",
   "outputs": [
    {
     "data": {
      "text/plain": [
       "Dataset({\n",
       "    features: ['ind', 'activity_label', 'ctx_a', 'ctx_b', 'ctx', 'endings', 'source_id', 'split', 'split_type', 'label'],\n",
       "    num_rows: 1525\n",
       "})"
      ]
     },
     "execution_count": 53,
     "metadata": {},
     "output_type": "execute_result"
    }
   ],
   "execution_count": 53
  },
  {
   "metadata": {
    "ExecuteTime": {
     "end_time": "2025-03-29T10:05:52.459891Z",
     "start_time": "2025-03-29T10:05:52.337876Z"
    }
   },
   "cell_type": "code",
   "source": "golden_swag_hf.to_parquet('goldenswag.parquet')",
   "id": "97b3cc5b191b0d7e",
   "outputs": [
    {
     "data": {
      "text/plain": [
       "Creating parquet from Arrow format:   0%|          | 0/2 [00:00<?, ?ba/s]"
      ],
      "application/vnd.jupyter.widget-view+json": {
       "version_major": 2,
       "version_minor": 0,
       "model_id": "e5b3c9451b564291b7e3b687d9a2cc46"
      }
     },
     "metadata": {},
     "output_type": "display_data"
    },
    {
     "data": {
      "text/plain": [
       "2034111"
      ]
     },
     "execution_count": 54,
     "metadata": {},
     "output_type": "execute_result"
    }
   ],
   "execution_count": 54
  }
 ],
 "metadata": {
  "kernelspec": {
   "display_name": "Python 3",
   "language": "python",
   "name": "python3"
  },
  "language_info": {
   "codemirror_mode": {
    "name": "ipython",
    "version": 2
   },
   "file_extension": ".py",
   "mimetype": "text/x-python",
   "name": "python",
   "nbconvert_exporter": "python",
   "pygments_lexer": "ipython2",
   "version": "2.7.6"
  }
 },
 "nbformat": 4,
 "nbformat_minor": 5
}
